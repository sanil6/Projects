{
 "cells": [
  {
   "cell_type": "markdown",
   "metadata": {},
   "source": [
    "---\n",
    "\n",
    "_You are currently looking at **version 1.1** of this notebook. To download notebooks and datafiles, as well as get help on Jupyter notebooks in the Coursera platform, visit the [Jupyter Notebook FAQ](https://www.coursera.org/learn/python-data-analysis/resources/0dhYG) course resource._\n",
    "\n",
    "---"
   ]
  },
  {
   "cell_type": "code",
   "execution_count": null,
   "metadata": {},
   "outputs": [],
   "source": [
    "#import os\n",
    "#os.chdir('/python')"
   ]
  },
  {
   "cell_type": "code",
   "execution_count": null,
   "metadata": {},
   "outputs": [],
   "source": [
    "import pandas as pd\n",
    "import numpy as np\n",
    "from scipy.stats import ttest_ind"
   ]
  },
  {
   "cell_type": "markdown",
   "metadata": {},
   "source": [
    "# Hypothesis Testing\n",
    " \n",
    "\n",
    "Definitions:\n",
    "* A _quarter_ is a specific three month period, Q1 is January through March, Q2 is April through June, Q3 is July through September, Q4 is October through December.\n",
    "* A _recession_ is defined as starting with two consecutive quarters of GDP decline, and ending with two consecutive quarters of GDP growth.\n",
    "* A _recession bottom_ is the quarter within a recession which had the lowest GDP.\n",
    "* A _university town_ is a city which has a high percentage of university students compared to the total population of the city.\n",
    "\n",
    "**Hypothesis**: University towns have their mean housing prices less effected by recessions. Run a t-test to compare the ratio of the mean price of houses in university towns the quarter before the recession starts compared to the recession bottom. (`price_ratio=quarter_before_recession/recession_bottom`)\n",
    "\n",
    "The following data files are available for this assignment:\n",
    "* From the [Zillow research data site](http://www.zillow.com/research/data/) there is housing data for the United States. In particular the datafile for [all homes at a city level](http://files.zillowstatic.com/research/public/City/City_Zhvi_AllHomes.csv), ```City_Zhvi_AllHomes.csv```, has median home sale prices at a fine grained level.\n",
    "* From the Wikipedia page on college towns is a list of [university towns in the United States](https://en.wikipedia.org/wiki/List_of_college_towns#College_towns_in_the_United_States) which has been copy and pasted into the file ```university_towns.txt```.\n",
    "* From Bureau of Economic Analysis, US Department of Commerce, the [GDP over time](http://www.bea.gov/national/index.htm#gdp) of the United States in current dollars (use the chained value in 2009 dollars), in quarterly intervals, in the file ```gdplev.xls```. For this assignment, only look at GDP data from the first quarter of 2000 onward."
   ]
  },
  {
   "cell_type": "code",
   "execution_count": null,
   "metadata": {},
   "outputs": [],
   "source": [
    "House=pd.read_csv('City_Zhvi_AllHomes.csv')\n",
    "gdp=pd.read_excel('gdplev.xls')"
   ]
  },
  {
   "cell_type": "code",
   "execution_count": null,
   "metadata": {},
   "outputs": [],
   "source": [
    "town=pd.read_table('university_towns.txt')\n",
    "town.rename(columns={\"Alabama[edit]\":'place'},inplace=True)\n"
   ]
  },
  {
   "cell_type": "code",
   "execution_count": null,
   "metadata": {},
   "outputs": [],
   "source": [
    "gdp=pd.read_excel('gdplev.xls')"
   ]
  },
  {
   "cell_type": "code",
   "execution_count": null,
   "metadata": {},
   "outputs": [],
   "source": [
    "# Use this dictionary to map state names to two letter acronyms\n",
    "states = {'OH': 'Ohio', 'KY': 'Kentucky', 'AS': 'American Samoa', 'NV': 'Nevada', 'WY': 'Wyoming', 'NA': 'National', 'AL': 'Alabama', 'MD': 'Maryland', 'AK': 'Alaska', 'UT': 'Utah', 'OR': 'Oregon', 'MT': 'Montana', 'IL': 'Illinois', 'TN': 'Tennessee', 'DC': 'District of Columbia', 'VT': 'Vermont', 'ID': 'Idaho', 'AR': 'Arkansas', 'ME': 'Maine', 'WA': 'Washington', 'HI': 'Hawaii', 'WI': 'Wisconsin', 'MI': 'Michigan', 'IN': 'Indiana', 'NJ': 'New Jersey', 'AZ': 'Arizona', 'GU': 'Guam', 'MS': 'Mississippi', 'PR': 'Puerto Rico', 'NC': 'North Carolina', 'TX': 'Texas', 'SD': 'South Dakota', 'MP': 'Northern Mariana Islands', 'IA': 'Iowa', 'MO': 'Missouri', 'CT': 'Connecticut', 'WV': 'West Virginia', 'SC': 'South Carolina', 'LA': 'Louisiana', 'KS': 'Kansas', 'NY': 'New York', 'NE': 'Nebraska', 'OK': 'Oklahoma', 'FL': 'Florida', 'CA': 'California', 'CO': 'Colorado', 'PA': 'Pennsylvania', 'DE': 'Delaware', 'NM': 'New Mexico', 'RI': 'Rhode Island', 'MN': 'Minnesota', 'VI': 'Virgin Islands', 'NH': 'New Hampshire', 'MA': 'Massachusetts', 'GA': 'Georgia', 'ND': 'North Dakota', 'VA': 'Virginia'}"
   ]
  },
  {
   "cell_type": "code",
   "execution_count": null,
   "metadata": {
    "umich_part_id": "021",
    "umich_partlist_id": "004"
   },
   "outputs": [],
   "source": [
    "def get_list_of_university_towns():\n",
    "    '''Returns a DataFrame of towns and the states they are in from the \n",
    "    university_towns.txt list. The format of the DataFrame should be:\n",
    "    DataFrame( [ [\"Michigan\", \"Ann Arbor\"], [\"Michigan\", \"Yipsilanti\"] ], \n",
    "    columns=[\"State\", \"RegionName\"]  )\n",
    "    \n",
    "    The following cleaning needs to be done:\n",
    "\n",
    "    1. For \"State\", removing characters from \"[\" to the end.\n",
    "    2. For \"RegionName\", when applicable, removing every character from \" (\" to the end.\n",
    "    3. Depending on how you read the data, you may need to remove newline character '\\n'. '''\n",
    "    with open(\"university_towns.txt\") as f:\n",
    "        \n",
    "        townslist = f.readlines()\n",
    "        townslist = [x.rstrip() for x in townslist]\n",
    "        townslist2 = list()\n",
    "        for i in townslist:\n",
    "            if i[-6:] == '[edit]':\n",
    "                temp_state = i[:-6]\n",
    "            elif '(' in i:\n",
    "                town = i[:i.index('(') - 1]\n",
    "                townslist2.append([temp_state, town])\n",
    "            else:\n",
    "                town = i\n",
    "                townslist2.append([temp_state, town])\n",
    "\n",
    "        collegedf = pd.DataFrame(townslist2, columns=['State','RegionName'])\n",
    "\n",
    "\n",
    "        df1 = collegedf.convert_objects(convert_numeric=True)\n",
    "    return df1\n",
    "get_list_of_university_towns()"
   ]
  },
  {
   "cell_type": "code",
   "execution_count": null,
   "metadata": {},
   "outputs": [],
   "source": [
    "s=gdp.iloc[4:]\n",
    "s.rename(columns={\"Unnamed: 4\":'YEAR+Q',\"Unnamed: 5\":'GDP in billions of current dollars',\"Unnamed: 6\":'GDP in billions of chained 2009 dollars'},inplace=True) #unamed 5 unamed 6 unamed 4\n",
    "s.reset_index(inplace=True)\n",
    "s.drop('index',axis=1,inplace=True)\n",
    "s.drop(['Current-Dollar and \"Real\" Gross Domestic Product','Unnamed: 1','Unnamed: 2','Unnamed: 3'],axis=1,inplace=True)\n",
    "s=s[['YEAR+Q','GDP in billions of current dollars','GDP in billions of chained 2009 dollars']]\n",
    "s=s.loc[215:]\n",
    "s.reset_index(inplace=True)\n",
    "s.drop('index',axis=1,inplace=True)\n",
    "s['GDP in billions of current dollars'].iloc[10]\n",
    "s['Rate']=s['GDP in billions of chained 2009 dollars'].pct_change()\n",
    "s = s.convert_objects(convert_numeric=True)"
   ]
  },
  {
   "cell_type": "code",
   "execution_count": null,
   "metadata": {
    "umich_part_id": "022",
    "umich_partlist_id": "004"
   },
   "outputs": [],
   "source": [
    "def get_recession_start():\n",
    "    '''Returns the year and quarter of the recession start time as a \n",
    "    string value in a format such as 2005q3'''\n",
    "    i=2\n",
    "    a=[]\n",
    "    while i < (s.shape[0]):\n",
    "        if s.iloc[i-1]['Rate']<0 and  s.iloc[i]['Rate']<0: \n",
    "            a.append(s.iloc[i-1]['YEAR+Q']) \n",
    "        i+=1\n",
    "    return a[0]\n",
    "\n",
    "get_recession_start()"
   ]
  },
  {
   "cell_type": "code",
   "execution_count": null,
   "metadata": {
    "umich_part_id": "023",
    "umich_partlist_id": "004"
   },
   "outputs": [],
   "source": [
    "def get_recession_end():\n",
    "    \n",
    "    '''Returns the year and quarter of the recession end time as a \n",
    "    string value in a format such as 2005q3'''\n",
    "    i=2\n",
    "    a=[]\n",
    "    s1=s[29:41]\n",
    "    while i < (s1.shape[0]):\n",
    "        if s1.iloc[i-1]['Rate']>0 and  s1.iloc[i]['Rate']>0: \n",
    "            a.append(s1.iloc[i-1]['YEAR+Q'])  \n",
    "        i+=1\n",
    "    return a[2]\n",
    "get_recession_end()"
   ]
  },
  {
   "cell_type": "code",
   "execution_count": null,
   "metadata": {
    "umich_part_id": "024",
    "umich_partlist_id": "004"
   },
   "outputs": [],
   "source": [
    "def get_recession_bottom():\n",
    "    '''Returns the year and quarter of the recession bottom time as a \n",
    "    string value in a format such as 2005q3'''\n",
    "    s1=s.iloc[34:40]\n",
    "    s1[s1['GDP in billions of chained 2009 dollars']==s1['GDP in billions of chained 2009 dollars'].min()]['YEAR+Q']\n",
    "    return s1.loc[37]['YEAR+Q']\n",
    "get_recession_bottom()"
   ]
  },
  {
   "cell_type": "code",
   "execution_count": null,
   "metadata": {
    "scrolled": true,
    "umich_part_id": "025",
    "umich_partlist_id": "004"
   },
   "outputs": [],
   "source": [
    "def convert_housing_data_to_quarters():\n",
    "    \n",
    "    '''Converts the housing data to quarters and returns it as mean \n",
    "    values in a dataframe. This dataframe should be a dataframe with\n",
    "    columns for 2000q1 through 2016q3, and should have a multi-index\n",
    "    in the shape of [\"State\",\"RegionName\"].\n",
    "    \n",
    "    Note: Quarters are defined in the assignment description, they are\n",
    "    not arbitrary three month periods.\n",
    "    \n",
    "    The resulting dataframe should have 67 columns, and 10,730 rows.\n",
    "    '''\n",
    "    a=pd.Series(np.arange(2000,2017)).map(str)\n",
    "    b=pd.Series(np.arange(1,13)).map(str)\n",
    "    c=pd.Series(np.arange(1,5)).map(str)\n",
    "    c=c.map(lambda x:\"q\"+x)\n",
    "    b=b.map(lambda x:\"0\"+x)\n",
    "    #House.drop()\n",
    "    b[9:12]=[\"10\",\"11\",\"12\"]\n",
    "    i=0\n",
    "    #j=0\n",
    "    df=pd.DataFrame()\n",
    "    while(i<17):\n",
    "        if(i!=16):\n",
    "            j=0\n",
    "            while (j<4):\n",
    "                if(j==0):\n",
    "                    df[a[i]+c[j]]=House[[a[i]+\"-\"+b[0],a[i]+\"-\"+b[1],a[i]+\"-\"+b[2]]].mean(axis=1)\n",
    "                elif(j==1):\n",
    "                    df[a[i]+c[j]]=House[[a[i]+\"-\"+b[3],a[i]+\"-\"+b[4],a[i]+\"-\"+b[5]]].mean(axis=1)   \n",
    "                elif(j==2):\n",
    "                    df[a[i]+c[j]]=House[[a[i]+\"-\"+b[6],a[i]+\"-\"+b[7],a[i]+\"-\"+b[8]]].mean(axis=1) \n",
    "                else:\n",
    "                    df[a[i]+c[j]]=House[[a[i]+\"-\"+b[9],a[i]+\"-\"+b[10],a[i]+\"-\"+b[11]]].mean(axis=1) \n",
    "                j+=1\n",
    "        else:\n",
    "            j=0\n",
    "            while (j<3):\n",
    "                if(j==0):\n",
    "                    df[a[i]+c[j]]=House[[a[i]+\"-\"+b[0],a[i]+\"-\"+b[1],a[i]+\"-\"+b[2]]].mean(axis=1)\n",
    "                elif(j==1):\n",
    "                    df[a[i]+c[j]]=House[[a[i]+\"-\"+b[3],a[i]+\"-\"+b[4],a[i]+\"-\"+b[5]]].mean(axis=1)   \n",
    "                else:\n",
    "                    df[a[i]+c[j]]=House[[a[i]+\"-\"+b[6],a[i]+\"-\"+b[7]]].mean(axis=1) \n",
    "                j+=1\n",
    "        i+=1\n",
    "    df['State']=House['State'].map(states)\n",
    "    df['RegionName']=House['RegionName']\n",
    "    df.set_index(['State','RegionName'],inplace=True)\n",
    "    return df\n",
    "convert_housing_data_to_quarters()"
   ]
  },
  {
   "cell_type": "code",
   "execution_count": null,
   "metadata": {
    "umich_part_id": "026",
    "umich_partlist_id": "004"
   },
   "outputs": [],
   "source": [
    "def run_ttest():\n",
    "    '''First creates new data showing the decline or growth of housing prices\n",
    "    between the recession start and the recession bottom. Then runs a ttest\n",
    "    comparing the university town values to the non-university towns values, \n",
    "    return whether the alternative hypothesis (that the two groups are the same)\n",
    "    is true or not as well as the p-value of the confidence. \n",
    "    \n",
    "    Return the tuple (different, p, better) where different=True if the t-test is\n",
    "    True at a p<0.01 (we reject the null hypothesis), or different=False if \n",
    "    otherwise (we cannot reject the null hypothesis). The variable p should\n",
    "    be equal to the exact p value returned from scipy.stats.ttest_ind(). The\n",
    "    value for better should be either \"university town\" or \"non-university town\"\n",
    "    depending on which has a lower mean price ratio (which is equivilent to a\n",
    "    reduced market loss).'''\n",
    "    towns = get_list_of_university_towns()\n",
    "    startdate = get_recession_start()\n",
    "    bottomdate = get_recession_bottom()\n",
    "    houses = convert_housing_data_to_quarters()\n",
    "    houses = houses.reset_index()\n",
    "    houses['recession_diff'] = houses[startdate] - houses[bottomdate]\n",
    "    unitowns=pd.merge(houses,towns,how='inner',on=['State','RegionName'])\n",
    "    l=unitowns.index\n",
    "    not_unitowns=houses[~houses.index.isin(l)]\n",
    "    t,p=ttest_ind(unitowns['recession_diff'].dropna(), not_unitowns['recession_diff'].dropna())\n",
    "    difference=True if p<0.01 else False\n",
    "    better = \"university town\" if unitowns['recession_diff'].mean() < not_unitowns['recession_diff'].mean() else \"non-university town\"\n",
    "    return difference,p,better\n",
    "run_ttest()"
   ]
  },
  {
   "cell_type": "code",
   "execution_count": null,
   "metadata": {},
   "outputs": [],
   "source": []
  }
 ],
 "metadata": {
  "coursera": {
   "course_slug": "python-data-analysis",
   "graded_item_id": "Il9Fx",
   "launcher_item_id": "TeDW0",
   "part_id": "WGlun"
  },
  "kernelspec": {
   "display_name": "Python 3",
   "language": "python",
   "name": "python3"
  },
  "language_info": {
   "codemirror_mode": {
    "name": "ipython",
    "version": 3
   },
   "file_extension": ".py",
   "mimetype": "text/x-python",
   "name": "python",
   "nbconvert_exporter": "python",
   "pygments_lexer": "ipython3",
   "version": "3.7.3"
  },
  "umich": {
   "id": "Assignment 4",
   "version": "1.1"
  }
 },
 "nbformat": 4,
 "nbformat_minor": 1
}
